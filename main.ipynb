{
 "cells": [
  {
   "cell_type": "code",
   "execution_count": 5,
   "metadata": {},
   "outputs": [],
   "source": [
    "from PSL import PSL\n",
    "import numpy as np\n",
    "\n",
    "def array_reader(filename = 'test.txt'):\n",
    "    text = open(filename, \"r\")\n",
    "    array_list = []\n",
    "    for line in text:\n",
    "        array_list.append(list(map(float, line.split())))\n",
    "    return array_list"
   ]
  },
  {
   "cell_type": "code",
   "execution_count": 6,
   "metadata": {},
   "outputs": [],
   "source": [
    "coordinates = array_reader('C20.xyz')\n",
    "\n",
    "radius_list = np.array([0.7,1.2,1.5,1.6,1.8,1.9,2.,2.1,2.3,2.7,4.])\n",
    "\n",
    "eig_l0, eig_l1, eig_l2 = [], [], []\n",
    "psl = PSL(pts=coordinates, charges = None, filtration_type = 'alpha', constant = True, scale=False, p=0.5, radius_list=radius_list)\n",
    "psl.build_filtration()\n",
    "psl.build_simplicial_pair()\n",
    "psl.build_matrices()\n",
    "res0, res1,res2 = psl.psl_0(), psl.psl_1(), psl.psl_2() \n",
    "for l0 in res0:\n",
    "    v0 = np.linalg.eigvalsh(l0)\n",
    "    eig_l0.append(v0)\n",
    "for l1 in res1:\n",
    "    v1 = np.linalg.eigvalsh(l1)\n",
    "    eig_l1.append(v1)\n",
    "for l2 in res2:\n",
    "    v2 = np.linalg.eigvalsh(l2)\n",
    "    eig_l2.append(v2)"
   ]
  }
 ],
 "metadata": {
  "kernelspec": {
   "display_name": "py39",
   "language": "python",
   "name": "python3"
  },
  "language_info": {
   "codemirror_mode": {
    "name": "ipython",
    "version": 3
   },
   "file_extension": ".py",
   "mimetype": "text/x-python",
   "name": "python",
   "nbconvert_exporter": "python",
   "pygments_lexer": "ipython3",
   "version": "3.9.15 (main, Nov 24 2022, 08:29:02) \n[Clang 14.0.6 ]"
  },
  "orig_nbformat": 4,
  "vscode": {
   "interpreter": {
    "hash": "b57ecc5ab86dea7bfaf15bba50dad2e605e0c38bbf5742bb535fc83e074ff799"
   }
  }
 },
 "nbformat": 4,
 "nbformat_minor": 2
}
